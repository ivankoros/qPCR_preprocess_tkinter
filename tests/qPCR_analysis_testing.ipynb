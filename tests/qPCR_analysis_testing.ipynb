{
 "cells": [
  {
   "cell_type": "code",
   "execution_count": 1,
   "metadata": {
    "collapsed": true,
    "ExecuteTime": {
     "start_time": "2023-04-03T16:29:12.711568Z",
     "end_time": "2023-04-03T16:29:14.245569Z"
    }
   },
   "outputs": [],
   "source": [
    "import numpy as np\n",
    "import pandas as pd\n",
    "import unittest\n",
    "from IPython.display import display"
   ]
  },
  {
   "cell_type": "code",
   "execution_count": 2,
   "outputs": [
    {
     "name": "stderr",
     "output_type": "stream",
     "text": [
      ".F\n",
      "======================================================================\n",
      "FAIL: test_raw_data (__main__.TestStringMethods.test_raw_data)\n",
      "----------------------------------------------------------------------\n",
      "Traceback (most recent call last):\n",
      "  File \"C:\\Users\\Ivan Korostenskij\\AppData\\Local\\Temp\\ipykernel_22968\\1821617862.py\", line 17, in test_raw_data\n",
      "    self.assertEqual(df_data.shape, (96, 16), f\"Raw data is {df_data.shape[0]} rows by {df_data.shape[1]} columns but should be 96 rows by 3 columns\")\n",
      "AssertionError: Tuples differ: (96, 15) != (96, 16)\n",
      "\n",
      "First differing element 1:\n",
      "15\n",
      "16\n",
      "\n",
      "- (96, 15)\n",
      "?       ^\n",
      "\n",
      "+ (96, 16)\n",
      "?       ^\n",
      " : Raw data is 96 rows by 15 columns but should be 96 rows by 3 columns\n",
      "\n",
      "----------------------------------------------------------------------\n",
      "Ran 2 tests in 0.010s\n",
      "\n",
      "FAILED (failures=1)\n"
     ]
    },
    {
     "data": {
      "text/plain": "   Well Fluor  Target Content  Sample  Biological Set Name     Cq    Cq Mean  \\\n0   A01  SYBR     NaN    Unkn     NaN                  NaN    NaN   0.000000   \n1   A02  SYBR     NaN    Unkn     NaN                  NaN  16.24  19.214765   \n2   A03  SYBR     NaN    Unkn     NaN                  NaN  16.05  19.586924   \n3   A04  SYBR     NaN    Unkn     NaN                  NaN  16.13  19.634851   \n4   A05  SYBR     NaN    Unkn     NaN                  NaN  16.15  19.645373   \n..  ...   ...     ...     ...     ...                  ...    ...        ...   \n91  H08  SYBR     NaN    Unkn     NaN                  NaN  16.01  19.837336   \n92  H09  SYBR     NaN    Unkn     NaN                  NaN  16.20  19.822316   \n93  H10  SYBR     NaN    Unkn     NaN                  NaN    NaN   0.000000   \n94  H11  SYBR     NaN    Unkn     NaN                  NaN    NaN   0.000000   \n95  H12  SYBR     NaN    Unkn     NaN                  NaN    NaN   0.000000   \n\n    Cq Std. Dev  Starting Quantity (SQ)  Log Starting Quantity  SQ Mean  \\\n0             0                     NaN                    NaN      0.0   \n1             0                     NaN                    NaN      NaN   \n2             0                     NaN                    NaN      NaN   \n3             0                     NaN                    NaN      NaN   \n4             0                     NaN                    NaN      NaN   \n..          ...                     ...                    ...      ...   \n91            0                     NaN                    NaN      NaN   \n92            0                     NaN                    NaN      NaN   \n93            0                     NaN                    NaN      0.0   \n94            0                     NaN                    NaN      0.0   \n95            0                     NaN                    NaN      0.0   \n\n    SQ Std. Dev  Set Point  Well Note  \n0             0         72        NaN  \n1             0         72        NaN  \n2             0         72        NaN  \n3             0         72        NaN  \n4             0         72        NaN  \n..          ...        ...        ...  \n91            0         72        NaN  \n92            0         72        NaN  \n93            0         72        NaN  \n94            0         72        NaN  \n95            0         72        NaN  \n\n[96 rows x 15 columns]",
      "text/html": "<div>\n<style scoped>\n    .dataframe tbody tr th:only-of-type {\n        vertical-align: middle;\n    }\n\n    .dataframe tbody tr th {\n        vertical-align: top;\n    }\n\n    .dataframe thead th {\n        text-align: right;\n    }\n</style>\n<table border=\"1\" class=\"dataframe\">\n  <thead>\n    <tr style=\"text-align: right;\">\n      <th></th>\n      <th>Well</th>\n      <th>Fluor</th>\n      <th>Target</th>\n      <th>Content</th>\n      <th>Sample</th>\n      <th>Biological Set Name</th>\n      <th>Cq</th>\n      <th>Cq Mean</th>\n      <th>Cq Std. Dev</th>\n      <th>Starting Quantity (SQ)</th>\n      <th>Log Starting Quantity</th>\n      <th>SQ Mean</th>\n      <th>SQ Std. Dev</th>\n      <th>Set Point</th>\n      <th>Well Note</th>\n    </tr>\n  </thead>\n  <tbody>\n    <tr>\n      <th>0</th>\n      <td>A01</td>\n      <td>SYBR</td>\n      <td>NaN</td>\n      <td>Unkn</td>\n      <td>NaN</td>\n      <td>NaN</td>\n      <td>NaN</td>\n      <td>0.000000</td>\n      <td>0</td>\n      <td>NaN</td>\n      <td>NaN</td>\n      <td>0.0</td>\n      <td>0</td>\n      <td>72</td>\n      <td>NaN</td>\n    </tr>\n    <tr>\n      <th>1</th>\n      <td>A02</td>\n      <td>SYBR</td>\n      <td>NaN</td>\n      <td>Unkn</td>\n      <td>NaN</td>\n      <td>NaN</td>\n      <td>16.24</td>\n      <td>19.214765</td>\n      <td>0</td>\n      <td>NaN</td>\n      <td>NaN</td>\n      <td>NaN</td>\n      <td>0</td>\n      <td>72</td>\n      <td>NaN</td>\n    </tr>\n    <tr>\n      <th>2</th>\n      <td>A03</td>\n      <td>SYBR</td>\n      <td>NaN</td>\n      <td>Unkn</td>\n      <td>NaN</td>\n      <td>NaN</td>\n      <td>16.05</td>\n      <td>19.586924</td>\n      <td>0</td>\n      <td>NaN</td>\n      <td>NaN</td>\n      <td>NaN</td>\n      <td>0</td>\n      <td>72</td>\n      <td>NaN</td>\n    </tr>\n    <tr>\n      <th>3</th>\n      <td>A04</td>\n      <td>SYBR</td>\n      <td>NaN</td>\n      <td>Unkn</td>\n      <td>NaN</td>\n      <td>NaN</td>\n      <td>16.13</td>\n      <td>19.634851</td>\n      <td>0</td>\n      <td>NaN</td>\n      <td>NaN</td>\n      <td>NaN</td>\n      <td>0</td>\n      <td>72</td>\n      <td>NaN</td>\n    </tr>\n    <tr>\n      <th>4</th>\n      <td>A05</td>\n      <td>SYBR</td>\n      <td>NaN</td>\n      <td>Unkn</td>\n      <td>NaN</td>\n      <td>NaN</td>\n      <td>16.15</td>\n      <td>19.645373</td>\n      <td>0</td>\n      <td>NaN</td>\n      <td>NaN</td>\n      <td>NaN</td>\n      <td>0</td>\n      <td>72</td>\n      <td>NaN</td>\n    </tr>\n    <tr>\n      <th>...</th>\n      <td>...</td>\n      <td>...</td>\n      <td>...</td>\n      <td>...</td>\n      <td>...</td>\n      <td>...</td>\n      <td>...</td>\n      <td>...</td>\n      <td>...</td>\n      <td>...</td>\n      <td>...</td>\n      <td>...</td>\n      <td>...</td>\n      <td>...</td>\n      <td>...</td>\n    </tr>\n    <tr>\n      <th>91</th>\n      <td>H08</td>\n      <td>SYBR</td>\n      <td>NaN</td>\n      <td>Unkn</td>\n      <td>NaN</td>\n      <td>NaN</td>\n      <td>16.01</td>\n      <td>19.837336</td>\n      <td>0</td>\n      <td>NaN</td>\n      <td>NaN</td>\n      <td>NaN</td>\n      <td>0</td>\n      <td>72</td>\n      <td>NaN</td>\n    </tr>\n    <tr>\n      <th>92</th>\n      <td>H09</td>\n      <td>SYBR</td>\n      <td>NaN</td>\n      <td>Unkn</td>\n      <td>NaN</td>\n      <td>NaN</td>\n      <td>16.20</td>\n      <td>19.822316</td>\n      <td>0</td>\n      <td>NaN</td>\n      <td>NaN</td>\n      <td>NaN</td>\n      <td>0</td>\n      <td>72</td>\n      <td>NaN</td>\n    </tr>\n    <tr>\n      <th>93</th>\n      <td>H10</td>\n      <td>SYBR</td>\n      <td>NaN</td>\n      <td>Unkn</td>\n      <td>NaN</td>\n      <td>NaN</td>\n      <td>NaN</td>\n      <td>0.000000</td>\n      <td>0</td>\n      <td>NaN</td>\n      <td>NaN</td>\n      <td>0.0</td>\n      <td>0</td>\n      <td>72</td>\n      <td>NaN</td>\n    </tr>\n    <tr>\n      <th>94</th>\n      <td>H11</td>\n      <td>SYBR</td>\n      <td>NaN</td>\n      <td>Unkn</td>\n      <td>NaN</td>\n      <td>NaN</td>\n      <td>NaN</td>\n      <td>0.000000</td>\n      <td>0</td>\n      <td>NaN</td>\n      <td>NaN</td>\n      <td>0.0</td>\n      <td>0</td>\n      <td>72</td>\n      <td>NaN</td>\n    </tr>\n    <tr>\n      <th>95</th>\n      <td>H12</td>\n      <td>SYBR</td>\n      <td>NaN</td>\n      <td>Unkn</td>\n      <td>NaN</td>\n      <td>NaN</td>\n      <td>NaN</td>\n      <td>0.000000</td>\n      <td>0</td>\n      <td>NaN</td>\n      <td>NaN</td>\n      <td>0.0</td>\n      <td>0</td>\n      <td>72</td>\n      <td>NaN</td>\n    </tr>\n  </tbody>\n</table>\n<p>96 rows × 15 columns</p>\n</div>"
     },
     "metadata": {},
     "output_type": "display_data"
    },
    {
     "data": {
      "text/plain": "  Unnamed: 0   1     2          3     4         5     6         7     8  \\\n0          A NaN  D100   D100 Dup  D125  D125 Dup  D145  D145 Dup  D168   \n1          B NaN  D101   D101 Dup  D128  D128 Dup  D148  D148 Dup  D169   \n2          C NaN  D104  D104 Dup*  D133  D133 Dup  D149  D149 Dup  D172   \n3          D NaN  D105   D105 Dup  D136  D136 Dup  D152  D152 Dup  D173   \n4          E NaN  D113   D113 Dup  D137  D137 Dup  D153  D153 Dup  D176   \n5          F NaN  D116   D116 Dup  D140  D140 Dup  D157  D157 Dup  D180   \n6          G NaN  D120   D120 Dup  D141  D141 Dup  D160  D160 Dup  D181   \n7          H NaN  D121   D121 Dup  D144  D144 Dup  D165  D165 Dup  D184   \n\n          9        10        11  12  \n0  D168 Dup      D185  D185 Dup NaN  \n1  D169 Dup      D192  D192 Dup NaN  \n2  D172 Dup      D193  D193 Dup NaN  \n3  D173 Dup      D200  D200 Dup NaN  \n4  D176 Dup  D104 dup       NaN NaN  \n5  D180 Dup       NaN       NaN NaN  \n6  D181 Dup       NaN       NaN NaN  \n7  D184 Dup       NaN       NaN NaN  ",
      "text/html": "<div>\n<style scoped>\n    .dataframe tbody tr th:only-of-type {\n        vertical-align: middle;\n    }\n\n    .dataframe tbody tr th {\n        vertical-align: top;\n    }\n\n    .dataframe thead th {\n        text-align: right;\n    }\n</style>\n<table border=\"1\" class=\"dataframe\">\n  <thead>\n    <tr style=\"text-align: right;\">\n      <th></th>\n      <th>Unnamed: 0</th>\n      <th>1</th>\n      <th>2</th>\n      <th>3</th>\n      <th>4</th>\n      <th>5</th>\n      <th>6</th>\n      <th>7</th>\n      <th>8</th>\n      <th>9</th>\n      <th>10</th>\n      <th>11</th>\n      <th>12</th>\n    </tr>\n  </thead>\n  <tbody>\n    <tr>\n      <th>0</th>\n      <td>A</td>\n      <td>NaN</td>\n      <td>D100</td>\n      <td>D100 Dup</td>\n      <td>D125</td>\n      <td>D125 Dup</td>\n      <td>D145</td>\n      <td>D145 Dup</td>\n      <td>D168</td>\n      <td>D168 Dup</td>\n      <td>D185</td>\n      <td>D185 Dup</td>\n      <td>NaN</td>\n    </tr>\n    <tr>\n      <th>1</th>\n      <td>B</td>\n      <td>NaN</td>\n      <td>D101</td>\n      <td>D101 Dup</td>\n      <td>D128</td>\n      <td>D128 Dup</td>\n      <td>D148</td>\n      <td>D148 Dup</td>\n      <td>D169</td>\n      <td>D169 Dup</td>\n      <td>D192</td>\n      <td>D192 Dup</td>\n      <td>NaN</td>\n    </tr>\n    <tr>\n      <th>2</th>\n      <td>C</td>\n      <td>NaN</td>\n      <td>D104</td>\n      <td>D104 Dup*</td>\n      <td>D133</td>\n      <td>D133 Dup</td>\n      <td>D149</td>\n      <td>D149 Dup</td>\n      <td>D172</td>\n      <td>D172 Dup</td>\n      <td>D193</td>\n      <td>D193 Dup</td>\n      <td>NaN</td>\n    </tr>\n    <tr>\n      <th>3</th>\n      <td>D</td>\n      <td>NaN</td>\n      <td>D105</td>\n      <td>D105 Dup</td>\n      <td>D136</td>\n      <td>D136 Dup</td>\n      <td>D152</td>\n      <td>D152 Dup</td>\n      <td>D173</td>\n      <td>D173 Dup</td>\n      <td>D200</td>\n      <td>D200 Dup</td>\n      <td>NaN</td>\n    </tr>\n    <tr>\n      <th>4</th>\n      <td>E</td>\n      <td>NaN</td>\n      <td>D113</td>\n      <td>D113 Dup</td>\n      <td>D137</td>\n      <td>D137 Dup</td>\n      <td>D153</td>\n      <td>D153 Dup</td>\n      <td>D176</td>\n      <td>D176 Dup</td>\n      <td>D104 dup</td>\n      <td>NaN</td>\n      <td>NaN</td>\n    </tr>\n    <tr>\n      <th>5</th>\n      <td>F</td>\n      <td>NaN</td>\n      <td>D116</td>\n      <td>D116 Dup</td>\n      <td>D140</td>\n      <td>D140 Dup</td>\n      <td>D157</td>\n      <td>D157 Dup</td>\n      <td>D180</td>\n      <td>D180 Dup</td>\n      <td>NaN</td>\n      <td>NaN</td>\n      <td>NaN</td>\n    </tr>\n    <tr>\n      <th>6</th>\n      <td>G</td>\n      <td>NaN</td>\n      <td>D120</td>\n      <td>D120 Dup</td>\n      <td>D141</td>\n      <td>D141 Dup</td>\n      <td>D160</td>\n      <td>D160 Dup</td>\n      <td>D181</td>\n      <td>D181 Dup</td>\n      <td>NaN</td>\n      <td>NaN</td>\n      <td>NaN</td>\n    </tr>\n    <tr>\n      <th>7</th>\n      <td>H</td>\n      <td>NaN</td>\n      <td>D121</td>\n      <td>D121 Dup</td>\n      <td>D144</td>\n      <td>D144 Dup</td>\n      <td>D165</td>\n      <td>D165 Dup</td>\n      <td>D184</td>\n      <td>D184 Dup</td>\n      <td>NaN</td>\n      <td>NaN</td>\n      <td>NaN</td>\n    </tr>\n  </tbody>\n</table>\n</div>"
     },
     "metadata": {},
     "output_type": "display_data"
    }
   ],
   "source": [
    "# Load environmental variables\n",
    "\n",
    "# Assign raw data and plate diagram files from environment\n",
    "\n",
    "RAW_SAMPLE_1 = \"./data/maya_test/raw_counts_maya.xlsx\"\n",
    "RAW_SAMPLE_1_DIAGRAM = \"./data/maya_test/diagram_maya.xlsx\"\n",
    "\n",
    "# Read in the raw data and plate diagram as pandas dataframes\n",
    "df_data = pd.read_excel(RAW_SAMPLE_1, sheet_name=0)\n",
    "df_diagram = pd.read_excel(RAW_SAMPLE_1_DIAGRAM)\n",
    "\n",
    "\n",
    "# Test the raw data and plate diagram to make sure they are the correct size, should be 96 rows by 16 columns and 8 rows by 13 columns respectively always\n",
    "class TestStringMethods(unittest.TestCase):\n",
    "\n",
    "    def test_raw_data(self):\n",
    "        self.assertEqual(df_data.shape, (96, 16), f\"Raw data is {df_data.shape[0]} rows by {df_data.shape[1]} columns but should be 96 rows by 3 columns\")\n",
    "\n",
    "    def test_plate_diagram(self):\n",
    "        self.assertEqual(df_diagram.shape, (8, 13), f\"Plate diagram is {df_diagram.shape[0]} rows by {df_diagram.shape[1]} columns but should be 8 rows by 13 columns\")\n",
    "\n",
    "\n",
    "unittest.main(argv=['first-arg-is-ignored'], exit=False)\n",
    "\n",
    "display(df_data)\n",
    "display(df_diagram)"
   ],
   "metadata": {
    "collapsed": false,
    "ExecuteTime": {
     "start_time": "2023-04-03T16:29:30.707491Z",
     "end_time": "2023-04-03T16:29:31.818985Z"
    }
   }
  },
  {
   "cell_type": "code",
   "execution_count": 3,
   "outputs": [
    {
     "data": {
      "text/plain": "   Well    Sample     Cq\n0   A01       NaN    NaN\n1   A02      D100  16.24\n2   A03  D100 dup  16.05\n3   A04      D125  16.13\n4   A05  D125 dup  16.15\n..  ...       ...    ...\n91  H08      D184  16.01\n92  H09  D184 dup  16.20\n93  H10       NaN    NaN\n94  H11       NaN    NaN\n95  H12       NaN    NaN\n\n[96 rows x 3 columns]",
      "text/html": "<div>\n<style scoped>\n    .dataframe tbody tr th:only-of-type {\n        vertical-align: middle;\n    }\n\n    .dataframe tbody tr th {\n        vertical-align: top;\n    }\n\n    .dataframe thead th {\n        text-align: right;\n    }\n</style>\n<table border=\"1\" class=\"dataframe\">\n  <thead>\n    <tr style=\"text-align: right;\">\n      <th></th>\n      <th>Well</th>\n      <th>Sample</th>\n      <th>Cq</th>\n    </tr>\n  </thead>\n  <tbody>\n    <tr>\n      <th>0</th>\n      <td>A01</td>\n      <td>NaN</td>\n      <td>NaN</td>\n    </tr>\n    <tr>\n      <th>1</th>\n      <td>A02</td>\n      <td>D100</td>\n      <td>16.24</td>\n    </tr>\n    <tr>\n      <th>2</th>\n      <td>A03</td>\n      <td>D100 dup</td>\n      <td>16.05</td>\n    </tr>\n    <tr>\n      <th>3</th>\n      <td>A04</td>\n      <td>D125</td>\n      <td>16.13</td>\n    </tr>\n    <tr>\n      <th>4</th>\n      <td>A05</td>\n      <td>D125 dup</td>\n      <td>16.15</td>\n    </tr>\n    <tr>\n      <th>...</th>\n      <td>...</td>\n      <td>...</td>\n      <td>...</td>\n    </tr>\n    <tr>\n      <th>91</th>\n      <td>H08</td>\n      <td>D184</td>\n      <td>16.01</td>\n    </tr>\n    <tr>\n      <th>92</th>\n      <td>H09</td>\n      <td>D184 dup</td>\n      <td>16.20</td>\n    </tr>\n    <tr>\n      <th>93</th>\n      <td>H10</td>\n      <td>NaN</td>\n      <td>NaN</td>\n    </tr>\n    <tr>\n      <th>94</th>\n      <td>H11</td>\n      <td>NaN</td>\n      <td>NaN</td>\n    </tr>\n    <tr>\n      <th>95</th>\n      <td>H12</td>\n      <td>NaN</td>\n      <td>NaN</td>\n    </tr>\n  </tbody>\n</table>\n<p>96 rows × 3 columns</p>\n</div>"
     },
     "execution_count": 3,
     "metadata": {},
     "output_type": "execute_result"
    }
   ],
   "source": [
    "# Set the first column as the index, remove whitespace and add a space to the \"dup\" values\n",
    "df_diagram = df_diagram.set_index(df_diagram.columns[0])\n",
    "df_diagram = df_diagram.replace('\\s+', '', regex=True)\n",
    "df_diagram = df_diagram.replace(r'(?i)dup', ' dup', regex=True)\n",
    "\n",
    "\n",
    "# Create an empty sample map dictionary\n",
    "sample_map = {}\n",
    "\n",
    "for row in df_diagram.index:\n",
    "    for col in df_diagram.columns[1:]:\n",
    "        well_id = f\"{row}{int(col):02d}\"\n",
    "        sample_name = df_diagram.loc[row, col]\n",
    "        sample_map[well_id] = sample_name\n",
    "\n",
    "    \"\"\"Use rows and columns (besides the first one) to relate the well ID to the sample name.\n",
    "\n",
    "    For example, the first row name is A and the first column name is 1.\n",
    "    The well ID will be A01 and the sample name will the sample in that row/column.\n",
    "\n",
    "    \"\"\"\n",
    "\n",
    "# Read in the raw qPCR data and map the well IDs to sample names using the dictionary\n",
    "df_data[\"Sample\"] = df_data[\"Well\"].map(sample_map)\n",
    "\n",
    "# Show Well, Sample, and Cq columns\n",
    "df_data[['Well', 'Sample', 'Cq']]"
   ],
   "metadata": {
    "collapsed": false,
    "ExecuteTime": {
     "start_time": "2023-04-03T16:29:40.002774Z",
     "end_time": "2023-04-03T16:29:40.051820Z"
    }
   }
  },
  {
   "cell_type": "code",
   "execution_count": 4,
   "outputs": [
    {
     "data": {
      "text/plain": "   Well    Sample  mtDNA1  mtDNA2     Cq\n1   A02      D100  mtDNA1  mtDNA2  16.24\n2   A03  D100 dup  mtDNA1  mtDNA2  16.05\n3   A04      D125  mtDNA1  mtDNA2  16.13\n4   A05  D125 dup  mtDNA1  mtDNA2  16.15\n5   A06      D145  mtDNA1  mtDNA2  16.35\n..  ...       ...     ...     ...    ...\n88  H05  D144 dup  mtDNA1  mtDNA2  16.37\n89  H06      D165  mtDNA1  mtDNA2  16.27\n90  H07  D165 dup  mtDNA1  mtDNA2  16.35\n91  H08      D184  mtDNA1  mtDNA2  16.01\n92  H09  D184 dup  mtDNA1  mtDNA2  16.20\n\n[70 rows x 5 columns]",
      "text/html": "<div>\n<style scoped>\n    .dataframe tbody tr th:only-of-type {\n        vertical-align: middle;\n    }\n\n    .dataframe tbody tr th {\n        vertical-align: top;\n    }\n\n    .dataframe thead th {\n        text-align: right;\n    }\n</style>\n<table border=\"1\" class=\"dataframe\">\n  <thead>\n    <tr style=\"text-align: right;\">\n      <th></th>\n      <th>Well</th>\n      <th>Sample</th>\n      <th>mtDNA1</th>\n      <th>mtDNA2</th>\n      <th>Cq</th>\n    </tr>\n  </thead>\n  <tbody>\n    <tr>\n      <th>1</th>\n      <td>A02</td>\n      <td>D100</td>\n      <td>mtDNA1</td>\n      <td>mtDNA2</td>\n      <td>16.24</td>\n    </tr>\n    <tr>\n      <th>2</th>\n      <td>A03</td>\n      <td>D100 dup</td>\n      <td>mtDNA1</td>\n      <td>mtDNA2</td>\n      <td>16.05</td>\n    </tr>\n    <tr>\n      <th>3</th>\n      <td>A04</td>\n      <td>D125</td>\n      <td>mtDNA1</td>\n      <td>mtDNA2</td>\n      <td>16.13</td>\n    </tr>\n    <tr>\n      <th>4</th>\n      <td>A05</td>\n      <td>D125 dup</td>\n      <td>mtDNA1</td>\n      <td>mtDNA2</td>\n      <td>16.15</td>\n    </tr>\n    <tr>\n      <th>5</th>\n      <td>A06</td>\n      <td>D145</td>\n      <td>mtDNA1</td>\n      <td>mtDNA2</td>\n      <td>16.35</td>\n    </tr>\n    <tr>\n      <th>...</th>\n      <td>...</td>\n      <td>...</td>\n      <td>...</td>\n      <td>...</td>\n      <td>...</td>\n    </tr>\n    <tr>\n      <th>88</th>\n      <td>H05</td>\n      <td>D144 dup</td>\n      <td>mtDNA1</td>\n      <td>mtDNA2</td>\n      <td>16.37</td>\n    </tr>\n    <tr>\n      <th>89</th>\n      <td>H06</td>\n      <td>D165</td>\n      <td>mtDNA1</td>\n      <td>mtDNA2</td>\n      <td>16.27</td>\n    </tr>\n    <tr>\n      <th>90</th>\n      <td>H07</td>\n      <td>D165 dup</td>\n      <td>mtDNA1</td>\n      <td>mtDNA2</td>\n      <td>16.35</td>\n    </tr>\n    <tr>\n      <th>91</th>\n      <td>H08</td>\n      <td>D184</td>\n      <td>mtDNA1</td>\n      <td>mtDNA2</td>\n      <td>16.01</td>\n    </tr>\n    <tr>\n      <th>92</th>\n      <td>H09</td>\n      <td>D184 dup</td>\n      <td>mtDNA1</td>\n      <td>mtDNA2</td>\n      <td>16.20</td>\n    </tr>\n  </tbody>\n</table>\n<p>70 rows × 5 columns</p>\n</div>"
     },
     "execution_count": 4,
     "metadata": {},
     "output_type": "execute_result"
    }
   ],
   "source": [
    "# Select relevant columns (Well, Cq, and Sample)\n",
    "df = df_data[['Well', 'Cq', 'Sample']].copy()\n",
    "\n",
    "# Create mtDNA1 and mtDNA2 columns\n",
    "df['mtDNA1'] = \"mtDNA1\"\n",
    "df['mtDNA2'] = \"mtDNA2\"\n",
    "\n",
    "# Arrange columns like this: \"Well\", \"Sample\", \"mtDNA1\", \"mtDNA2\", \"Cq\"\n",
    "df = df.loc[:,[\"Well\", \"Sample\", \"mtDNA1\", \"mtDNA2\", \"Cq\"]]\n",
    "\n",
    "# Drop rows with NA values\n",
    "df = df.dropna()\n",
    "\n",
    "# Show first 5 rows\n",
    "df"
   ],
   "metadata": {
    "collapsed": false,
    "ExecuteTime": {
     "start_time": "2023-04-03T16:29:47.307962Z",
     "end_time": "2023-04-03T16:29:47.368957Z"
    }
   }
  },
  {
   "cell_type": "code",
   "execution_count": 5,
   "outputs": [
    {
     "data": {
      "text/plain": "   Well Sample mtDNA1 mtDNA2    St.Dev\n1   A02   D100  16.24  16.05  0.134350\n3   A04   D125  16.13  16.15  0.014142\n5   A06   D145  16.35  16.28  0.049497\n9   A10   D185  15.73  15.84  0.077782\n13  B02   D101  16.58  16.46  0.084853",
      "text/html": "<div>\n<style scoped>\n    .dataframe tbody tr th:only-of-type {\n        vertical-align: middle;\n    }\n\n    .dataframe tbody tr th {\n        vertical-align: top;\n    }\n\n    .dataframe thead th {\n        text-align: right;\n    }\n</style>\n<table border=\"1\" class=\"dataframe\">\n  <thead>\n    <tr style=\"text-align: right;\">\n      <th></th>\n      <th>Well</th>\n      <th>Sample</th>\n      <th>mtDNA1</th>\n      <th>mtDNA2</th>\n      <th>St.Dev</th>\n    </tr>\n  </thead>\n  <tbody>\n    <tr>\n      <th>1</th>\n      <td>A02</td>\n      <td>D100</td>\n      <td>16.24</td>\n      <td>16.05</td>\n      <td>0.134350</td>\n    </tr>\n    <tr>\n      <th>3</th>\n      <td>A04</td>\n      <td>D125</td>\n      <td>16.13</td>\n      <td>16.15</td>\n      <td>0.014142</td>\n    </tr>\n    <tr>\n      <th>5</th>\n      <td>A06</td>\n      <td>D145</td>\n      <td>16.35</td>\n      <td>16.28</td>\n      <td>0.049497</td>\n    </tr>\n    <tr>\n      <th>9</th>\n      <td>A10</td>\n      <td>D185</td>\n      <td>15.73</td>\n      <td>15.84</td>\n      <td>0.077782</td>\n    </tr>\n    <tr>\n      <th>13</th>\n      <td>B02</td>\n      <td>D101</td>\n      <td>16.58</td>\n      <td>16.46</td>\n      <td>0.084853</td>\n    </tr>\n  </tbody>\n</table>\n</div>"
     },
     "execution_count": 5,
     "metadata": {},
     "output_type": "execute_result"
    }
   ],
   "source": [
    "# set mtDNA1 and mtDNA2 values to Cq values by treating mtDNA1 as the Cq for the first sample and mtDNA2 as the Cq for the duplicate sample if it exists as \"Sample dup\"\n",
    "\n",
    "# Note, exactly \"Sample dup\" is used to avoid matching \"Sample dup **\" or any additions to the name\n",
    "\n",
    "for row, index in df.iterrows():\n",
    "    df.loc[row, 'mtDNA1'] = df.loc[row, 'Cq']\n",
    "    if df.loc[row, 'Sample'] + ' dup' in df['Sample'].values:\n",
    "        df.loc[row, 'mtDNA2'] = df.loc[df['Sample'] == df.loc[row, 'Sample'] + ' dup', 'Cq'].values[0]\n",
    "    else:\n",
    "        df.loc[row, 'mtDNA2'] = np.NAN\n",
    "\n",
    "\"\"\" Assign mtDNA1 and mtNDA2 value\n",
    "\n",
    "    For each row, set the mtDNA1 value to the Cq value and set the mtDNA2 value to the Cq value of the duplicate sample if it exists.\n",
    "\n",
    "    For example, if the sample name is \"D12\", set the mtDNA1 value to its Cq value and set the mtDNA2 value to the Cq value of \"D12 Dup\" (if it exists).\n",
    "\n",
    "    If the duplicate (\"D12 Dup\") does not exist, set the mtDNA2 value to NaN, which is then dropped later.\n",
    "\"\"\"\n",
    "\n",
    "\n",
    "# Drop the Cq column and drop NA values\n",
    "df = df.drop(columns=['Cq'])\n",
    "df = df.dropna()\n",
    "\n",
    "# calculate standard deviation of each row\n",
    "df['St.Dev'] = df[['mtDNA1', 'mtDNA2']].std(axis=1)\n",
    "\n",
    "# Show first 5 rows\n",
    "df.head()"
   ],
   "metadata": {
    "collapsed": false,
    "ExecuteTime": {
     "start_time": "2023-04-03T16:29:49.993954Z",
     "end_time": "2023-04-03T16:29:50.138900Z"
    }
   }
  },
  {
   "cell_type": "code",
   "execution_count": 6,
   "outputs": [
    {
     "name": "stdout",
     "output_type": "stream",
     "text": [
      "\n",
      " Warning: Standard deviation for D113 is 0.226 (Sample 1: 16.58 vs Sample 2: 16.26) \n",
      "\n",
      "\n",
      " Warning: Standard deviation for D116 is 0.311 (Sample 1: 16.51 vs Sample 2: 16.95) \n",
      "\n"
     ]
    }
   ],
   "source": [
    "# Throw warnings for standard deviations greater than .22\n",
    "\n",
    "for row, index in df.iterrows():\n",
    "    if df.loc[row, 'St.Dev'] > .22:\n",
    "        print(f\"\\n Warning: Standard deviation for {df.loc[row, 'Sample']} is {round(df.loc[row, 'St.Dev'],ndigits=3)} \"\n",
    "              f\"(Sample 1: {round(df.loc[row, 'mtDNA1'],ndigits=3)} vs Sample 2: {round(df.loc[row, 'mtDNA2'], ndigits=2)}) \\n\")"
   ],
   "metadata": {
    "collapsed": false,
    "ExecuteTime": {
     "start_time": "2023-04-03T16:29:57.811801Z",
     "end_time": "2023-04-03T16:29:57.838179Z"
    }
   }
  },
  {
   "cell_type": "code",
   "execution_count": 7,
   "outputs": [],
   "source": [
    "#Drop index, sort by standard deviation (descending), and download the file\n",
    "df = df.sort_values(by=['St.Dev'], ascending=False)\n",
    "df = df.reset_index(drop=True)\n",
    "\n",
    "df.to_excel(\"50_gcr_random_name_test_output.xlsx\",\n",
    "          index=False)"
   ],
   "metadata": {
    "collapsed": false,
    "ExecuteTime": {
     "start_time": "2023-04-03T16:30:01.654345Z",
     "end_time": "2023-04-03T16:30:01.808618Z"
    }
   }
  }
 ],
 "metadata": {
  "kernelspec": {
   "display_name": "Python 3",
   "language": "python",
   "name": "python3"
  },
  "language_info": {
   "codemirror_mode": {
    "name": "ipython",
    "version": 2
   },
   "file_extension": ".py",
   "mimetype": "text/x-python",
   "name": "python",
   "nbconvert_exporter": "python",
   "pygments_lexer": "ipython2",
   "version": "2.7.6"
  }
 },
 "nbformat": 4,
 "nbformat_minor": 0
}

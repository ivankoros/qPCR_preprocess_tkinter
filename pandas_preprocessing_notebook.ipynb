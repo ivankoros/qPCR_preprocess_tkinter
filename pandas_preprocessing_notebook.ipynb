{
 "cells": [
  {
   "cell_type": "code",
   "execution_count": 3,
   "metadata": {
    "collapsed": true
   },
   "outputs": [],
   "source": [
    "import numpy as np\n",
    "import pandas as pd\n",
    "import os"
   ]
  },
  {
   "cell_type": "code",
   "execution_count": 4,
   "outputs": [
    {
     "data": {
      "text/plain": "  Unnamed: 0   1     2          3     4         5     6         7      8  \\\n0          A NaN  D49   D49 dup**  D73   D73  dup   D89   D89 dup   D168   \n1          B NaN   D53    D53 dup  D76   D76  dup   D92   D92 dup  D169*   \n2          C NaN  D56    D56  dup  D77   D77  dup  D149  D149 dup   D172   \n3          D NaN  D57    D57  dup  D80   D80  dup  D152  D152 dup   D173   \n4          E NaN  D60    D60  dup  D81   D81  dup  D153  D153 dup   D176   \n\n          9    10        11  12  \n0  D168 dup  D185  D185 dup NaN  \n1  D169 dup  D192  D192 dup NaN  \n2  D172 dup  D193  D193 dup NaN  \n3  D173 dup  D200  D200 dup NaN  \n4  D176 dup   D17   D17 dup NaN  ",
      "text/html": "<div>\n<style scoped>\n    .dataframe tbody tr th:only-of-type {\n        vertical-align: middle;\n    }\n\n    .dataframe tbody tr th {\n        vertical-align: top;\n    }\n\n    .dataframe thead th {\n        text-align: right;\n    }\n</style>\n<table border=\"1\" class=\"dataframe\">\n  <thead>\n    <tr style=\"text-align: right;\">\n      <th></th>\n      <th>Unnamed: 0</th>\n      <th>1</th>\n      <th>2</th>\n      <th>3</th>\n      <th>4</th>\n      <th>5</th>\n      <th>6</th>\n      <th>7</th>\n      <th>8</th>\n      <th>9</th>\n      <th>10</th>\n      <th>11</th>\n      <th>12</th>\n    </tr>\n  </thead>\n  <tbody>\n    <tr>\n      <th>0</th>\n      <td>A</td>\n      <td>NaN</td>\n      <td>D49</td>\n      <td>D49 dup**</td>\n      <td>D73</td>\n      <td>D73  dup</td>\n      <td>D89</td>\n      <td>D89 dup</td>\n      <td>D168</td>\n      <td>D168 dup</td>\n      <td>D185</td>\n      <td>D185 dup</td>\n      <td>NaN</td>\n    </tr>\n    <tr>\n      <th>1</th>\n      <td>B</td>\n      <td>NaN</td>\n      <td>D53</td>\n      <td>D53 dup</td>\n      <td>D76</td>\n      <td>D76  dup</td>\n      <td>D92</td>\n      <td>D92 dup</td>\n      <td>D169*</td>\n      <td>D169 dup</td>\n      <td>D192</td>\n      <td>D192 dup</td>\n      <td>NaN</td>\n    </tr>\n    <tr>\n      <th>2</th>\n      <td>C</td>\n      <td>NaN</td>\n      <td>D56</td>\n      <td>D56  dup</td>\n      <td>D77</td>\n      <td>D77  dup</td>\n      <td>D149</td>\n      <td>D149 dup</td>\n      <td>D172</td>\n      <td>D172 dup</td>\n      <td>D193</td>\n      <td>D193 dup</td>\n      <td>NaN</td>\n    </tr>\n    <tr>\n      <th>3</th>\n      <td>D</td>\n      <td>NaN</td>\n      <td>D57</td>\n      <td>D57  dup</td>\n      <td>D80</td>\n      <td>D80  dup</td>\n      <td>D152</td>\n      <td>D152 dup</td>\n      <td>D173</td>\n      <td>D173 dup</td>\n      <td>D200</td>\n      <td>D200 dup</td>\n      <td>NaN</td>\n    </tr>\n    <tr>\n      <th>4</th>\n      <td>E</td>\n      <td>NaN</td>\n      <td>D60</td>\n      <td>D60  dup</td>\n      <td>D81</td>\n      <td>D81  dup</td>\n      <td>D153</td>\n      <td>D153 dup</td>\n      <td>D176</td>\n      <td>D176 dup</td>\n      <td>D17</td>\n      <td>D17 dup</td>\n      <td>NaN</td>\n    </tr>\n  </tbody>\n</table>\n</div>"
     },
     "execution_count": 4,
     "metadata": {},
     "output_type": "execute_result"
    }
   ],
   "source": [
    "# Assign raw data and plate diagram files from environment\n",
    "RAW_SAMPLE_1 = \"data/T1000_Int_Delayed_Ceph_0_50_cGy_mtDNA_Plate_2_02_24_23_JS_745 -  Quantification Cq Results.xlsx\"\n",
    "RAW_SAMPLE_1_DIAGRAM = \"data/T1000_Int_Del_Ceph_qPCR_DIAGRAM_FORMATTED.xlsx\"\n",
    "\n",
    "# Read in the raw data and plate diagram as pandas dataframes\n",
    "df_data = pd.read_excel(RAW_SAMPLE_1, sheet_name=0)\n",
    "df_diagram = pd.read_excel(RAW_SAMPLE_1_DIAGRAM)\n",
    "\n",
    "# Show first 5 rows\n",
    "df_diagram.head()"
   ],
   "metadata": {
    "collapsed": false
   }
  },
  {
   "cell_type": "code",
   "execution_count": 5,
   "outputs": [
    {
     "data": {
      "text/plain": "   Unnamed: 0 Well Fluor  Target Content     Sample  Biological Set Name  \\\n0         NaN  A01  SYBR     NaN    Unkn        NaN                  NaN   \n1         NaN  A02  SYBR     NaN    Unkn        D49                  NaN   \n2         NaN  A03  SYBR     NaN    Unkn  D49 dup**                  NaN   \n3         NaN  A04  SYBR     NaN    Unkn        D73                  NaN   \n4         NaN  A05  SYBR     NaN    Unkn    D73 dup                  NaN   \n\n          Cq    Cq Mean  Cq Std. Dev  Starting Quantity (SQ)  \\\n0        NaN   0.000000            0                     NaN   \n1  19.214765  19.214765            0                     NaN   \n2  19.586924  19.586924            0                     NaN   \n3  19.634851  19.634851            0                     NaN   \n4  19.645373  19.645373            0                     NaN   \n\n   Log Starting Quantity  SQ Mean  SQ Std. Dev  Set Point  Well Note  \n0                    NaN      0.0            0         72        NaN  \n1                    NaN      NaN            0         72        NaN  \n2                    NaN      NaN            0         72        NaN  \n3                    NaN      NaN            0         72        NaN  \n4                    NaN      NaN            0         72        NaN  ",
      "text/html": "<div>\n<style scoped>\n    .dataframe tbody tr th:only-of-type {\n        vertical-align: middle;\n    }\n\n    .dataframe tbody tr th {\n        vertical-align: top;\n    }\n\n    .dataframe thead th {\n        text-align: right;\n    }\n</style>\n<table border=\"1\" class=\"dataframe\">\n  <thead>\n    <tr style=\"text-align: right;\">\n      <th></th>\n      <th>Unnamed: 0</th>\n      <th>Well</th>\n      <th>Fluor</th>\n      <th>Target</th>\n      <th>Content</th>\n      <th>Sample</th>\n      <th>Biological Set Name</th>\n      <th>Cq</th>\n      <th>Cq Mean</th>\n      <th>Cq Std. Dev</th>\n      <th>Starting Quantity (SQ)</th>\n      <th>Log Starting Quantity</th>\n      <th>SQ Mean</th>\n      <th>SQ Std. Dev</th>\n      <th>Set Point</th>\n      <th>Well Note</th>\n    </tr>\n  </thead>\n  <tbody>\n    <tr>\n      <th>0</th>\n      <td>NaN</td>\n      <td>A01</td>\n      <td>SYBR</td>\n      <td>NaN</td>\n      <td>Unkn</td>\n      <td>NaN</td>\n      <td>NaN</td>\n      <td>NaN</td>\n      <td>0.000000</td>\n      <td>0</td>\n      <td>NaN</td>\n      <td>NaN</td>\n      <td>0.0</td>\n      <td>0</td>\n      <td>72</td>\n      <td>NaN</td>\n    </tr>\n    <tr>\n      <th>1</th>\n      <td>NaN</td>\n      <td>A02</td>\n      <td>SYBR</td>\n      <td>NaN</td>\n      <td>Unkn</td>\n      <td>D49</td>\n      <td>NaN</td>\n      <td>19.214765</td>\n      <td>19.214765</td>\n      <td>0</td>\n      <td>NaN</td>\n      <td>NaN</td>\n      <td>NaN</td>\n      <td>0</td>\n      <td>72</td>\n      <td>NaN</td>\n    </tr>\n    <tr>\n      <th>2</th>\n      <td>NaN</td>\n      <td>A03</td>\n      <td>SYBR</td>\n      <td>NaN</td>\n      <td>Unkn</td>\n      <td>D49 dup**</td>\n      <td>NaN</td>\n      <td>19.586924</td>\n      <td>19.586924</td>\n      <td>0</td>\n      <td>NaN</td>\n      <td>NaN</td>\n      <td>NaN</td>\n      <td>0</td>\n      <td>72</td>\n      <td>NaN</td>\n    </tr>\n    <tr>\n      <th>3</th>\n      <td>NaN</td>\n      <td>A04</td>\n      <td>SYBR</td>\n      <td>NaN</td>\n      <td>Unkn</td>\n      <td>D73</td>\n      <td>NaN</td>\n      <td>19.634851</td>\n      <td>19.634851</td>\n      <td>0</td>\n      <td>NaN</td>\n      <td>NaN</td>\n      <td>NaN</td>\n      <td>0</td>\n      <td>72</td>\n      <td>NaN</td>\n    </tr>\n    <tr>\n      <th>4</th>\n      <td>NaN</td>\n      <td>A05</td>\n      <td>SYBR</td>\n      <td>NaN</td>\n      <td>Unkn</td>\n      <td>D73 dup</td>\n      <td>NaN</td>\n      <td>19.645373</td>\n      <td>19.645373</td>\n      <td>0</td>\n      <td>NaN</td>\n      <td>NaN</td>\n      <td>NaN</td>\n      <td>0</td>\n      <td>72</td>\n      <td>NaN</td>\n    </tr>\n  </tbody>\n</table>\n</div>"
     },
     "execution_count": 5,
     "metadata": {},
     "output_type": "execute_result"
    }
   ],
   "source": [
    "# Set the first column as the index, remove whitespace and add a space to the \"dup\" values\n",
    "df_diagram = df_diagram.set_index(df_diagram.columns[0])\n",
    "df_diagram = df_diagram.replace('\\s+', '', regex=True)\n",
    "df_diagram = df_diagram.replace('dup', ' dup', regex=True)\n",
    "\n",
    "# Use the rows and columns (besides the first one) of the plate diagram to create a dictionary of corresponding Sample and Well IDs\n",
    "sample_map = {}\n",
    "\n",
    "for row in df_diagram.index:\n",
    "    for col in df_diagram.columns[1:]:\n",
    "        well_id = f\"{row}{int(col):02d}\"\n",
    "        sample_name = df_diagram.loc[row, col]\n",
    "        sample_map[well_id] = sample_name\n",
    "\n",
    "# Read in the raw qPCR data and map the well IDs to sample names using the dictionary\n",
    "df_data[\"Sample\"] = df_data[\"Well\"].map(sample_map)\n",
    "\n",
    "# Show first 5 rows\n",
    "df_data.head()"
   ],
   "metadata": {
    "collapsed": false
   }
  },
  {
   "cell_type": "code",
   "execution_count": 6,
   "outputs": [
    {
     "name": "stderr",
     "output_type": "stream",
     "text": [
      "C:\\Users\\Ivan Korostenskij\\AppData\\Local\\Temp\\ipykernel_18916\\1518752503.py:4: SettingWithCopyWarning: \n",
      "A value is trying to be set on a copy of a slice from a DataFrame.\n",
      "Try using .loc[row_indexer,col_indexer] = value instead\n",
      "\n",
      "See the caveats in the documentation: https://pandas.pydata.org/pandas-docs/stable/user_guide/indexing.html#returning-a-view-versus-a-copy\n",
      "  df['mtDNA1'] = \"mtDNA1\"\n",
      "C:\\Users\\Ivan Korostenskij\\AppData\\Local\\Temp\\ipykernel_18916\\1518752503.py:5: SettingWithCopyWarning: \n",
      "A value is trying to be set on a copy of a slice from a DataFrame.\n",
      "Try using .loc[row_indexer,col_indexer] = value instead\n",
      "\n",
      "See the caveats in the documentation: https://pandas.pydata.org/pandas-docs/stable/user_guide/indexing.html#returning-a-view-versus-a-copy\n",
      "  df['mtDNA2'] = \"mtDNA2\"\n"
     ]
    },
    {
     "data": {
      "text/plain": "  Well     Sample  mtDNA1  mtDNA2         Cq\n1  A02        D49  mtDNA1  mtDNA2  19.214765\n2  A03  D49 dup**  mtDNA1  mtDNA2  19.586924\n3  A04        D73  mtDNA1  mtDNA2  19.634851\n4  A05    D73 dup  mtDNA1  mtDNA2  19.645373\n5  A06        D89  mtDNA1  mtDNA2  19.720434",
      "text/html": "<div>\n<style scoped>\n    .dataframe tbody tr th:only-of-type {\n        vertical-align: middle;\n    }\n\n    .dataframe tbody tr th {\n        vertical-align: top;\n    }\n\n    .dataframe thead th {\n        text-align: right;\n    }\n</style>\n<table border=\"1\" class=\"dataframe\">\n  <thead>\n    <tr style=\"text-align: right;\">\n      <th></th>\n      <th>Well</th>\n      <th>Sample</th>\n      <th>mtDNA1</th>\n      <th>mtDNA2</th>\n      <th>Cq</th>\n    </tr>\n  </thead>\n  <tbody>\n    <tr>\n      <th>1</th>\n      <td>A02</td>\n      <td>D49</td>\n      <td>mtDNA1</td>\n      <td>mtDNA2</td>\n      <td>19.214765</td>\n    </tr>\n    <tr>\n      <th>2</th>\n      <td>A03</td>\n      <td>D49 dup**</td>\n      <td>mtDNA1</td>\n      <td>mtDNA2</td>\n      <td>19.586924</td>\n    </tr>\n    <tr>\n      <th>3</th>\n      <td>A04</td>\n      <td>D73</td>\n      <td>mtDNA1</td>\n      <td>mtDNA2</td>\n      <td>19.634851</td>\n    </tr>\n    <tr>\n      <th>4</th>\n      <td>A05</td>\n      <td>D73 dup</td>\n      <td>mtDNA1</td>\n      <td>mtDNA2</td>\n      <td>19.645373</td>\n    </tr>\n    <tr>\n      <th>5</th>\n      <td>A06</td>\n      <td>D89</td>\n      <td>mtDNA1</td>\n      <td>mtDNA2</td>\n      <td>19.720434</td>\n    </tr>\n  </tbody>\n</table>\n</div>"
     },
     "execution_count": 6,
     "metadata": {},
     "output_type": "execute_result"
    }
   ],
   "source": [
    "# Select relevant columns, make mtDNA1 & mtDNA2 columns, and drop NaN rows\n",
    "df = df_data[['Well', 'Cq', 'Sample']]\n",
    "\n",
    "df['mtDNA1'] = \"mtDNA1\"\n",
    "df['mtDNA2'] = \"mtDNA2\"\n",
    "\n",
    "df = df.loc[:,[\"Well\", \"Sample\", \"mtDNA1\", \"mtDNA2\", \"Cq\"]]\n",
    "\n",
    "df = df.dropna()\n",
    "\n",
    "# Show first 5 rows\n",
    "df.head()"
   ],
   "metadata": {
    "collapsed": false
   }
  },
  {
   "cell_type": "code",
   "execution_count": 7,
   "outputs": [
    {
     "data": {
      "text/plain": "  Well Sample     mtDNA1     mtDNA2    St.Dev\n1  A02    D49  19.214765   19.41713  0.143094\n3  A04    D73  19.634851  19.645373  0.007440\n5  A06    D89  19.720434  19.648259  0.051035\n7  A08   D168  19.902073  19.741493  0.113547\n9  A10   D185  19.362185  19.415767  0.037888",
      "text/html": "<div>\n<style scoped>\n    .dataframe tbody tr th:only-of-type {\n        vertical-align: middle;\n    }\n\n    .dataframe tbody tr th {\n        vertical-align: top;\n    }\n\n    .dataframe thead th {\n        text-align: right;\n    }\n</style>\n<table border=\"1\" class=\"dataframe\">\n  <thead>\n    <tr style=\"text-align: right;\">\n      <th></th>\n      <th>Well</th>\n      <th>Sample</th>\n      <th>mtDNA1</th>\n      <th>mtDNA2</th>\n      <th>St.Dev</th>\n    </tr>\n  </thead>\n  <tbody>\n    <tr>\n      <th>1</th>\n      <td>A02</td>\n      <td>D49</td>\n      <td>19.214765</td>\n      <td>19.41713</td>\n      <td>0.143094</td>\n    </tr>\n    <tr>\n      <th>3</th>\n      <td>A04</td>\n      <td>D73</td>\n      <td>19.634851</td>\n      <td>19.645373</td>\n      <td>0.007440</td>\n    </tr>\n    <tr>\n      <th>5</th>\n      <td>A06</td>\n      <td>D89</td>\n      <td>19.720434</td>\n      <td>19.648259</td>\n      <td>0.051035</td>\n    </tr>\n    <tr>\n      <th>7</th>\n      <td>A08</td>\n      <td>D168</td>\n      <td>19.902073</td>\n      <td>19.741493</td>\n      <td>0.113547</td>\n    </tr>\n    <tr>\n      <th>9</th>\n      <td>A10</td>\n      <td>D185</td>\n      <td>19.362185</td>\n      <td>19.415767</td>\n      <td>0.037888</td>\n    </tr>\n  </tbody>\n</table>\n</div>"
     },
     "execution_count": 7,
     "metadata": {},
     "output_type": "execute_result"
    }
   ],
   "source": [
    "# set mtDNA1 and mtDNA2 values to Cq values by treating mtDNA1 as the Cq for the first sample and mtDNA2 as the Cq for the duplicate sample if it exists as \"Sample dup\"\n",
    "\n",
    "# Note, exactly \"Sample dup\" is used to avoid matching \"Sample dup **\" or any additions to the name\n",
    "\n",
    "for row, index in df.iterrows():\n",
    "    df.loc[row, 'mtDNA1'] = df.loc[row, 'Cq']\n",
    "    if df.loc[row, 'Sample'] + ' dup' in df['Sample'].values:\n",
    "        df.loc[row, 'mtDNA2'] = df.loc[df['Sample'] == df.loc[row, 'Sample'] + ' dup', 'Cq'].values[0]\n",
    "    else:\n",
    "        df.loc[row, 'mtDNA2'] = np.NAN\n",
    "\n",
    "df = df.drop(columns=['Cq'])\n",
    "df = df.dropna()\n",
    "\n",
    "# calculate standard deviation of each row\n",
    "df['St.Dev'] = df[['mtDNA1', 'mtDNA2']].std(axis=1)\n",
    "\n",
    "# Show first 5 rows\n",
    "df.head()"
   ],
   "metadata": {
    "collapsed": false
   }
  },
  {
   "cell_type": "code",
   "execution_count": 8,
   "outputs": [
    {
     "name": "stdout",
     "output_type": "stream",
     "text": [
      "\n",
      " Warning: Standard deviation for D88 is 3.354 (Sample 1: 24.13 vs Sample 2: 19.39) \n",
      "\n"
     ]
    }
   ],
   "source": [
    "# Throw warnings for standard deviations greater than .22\n",
    "\n",
    "for row, index in df.iterrows():\n",
    "    if df.loc[row, 'St.Dev'] > .22:\n",
    "        print(f\"\\n Warning: Standard deviation for {df.loc[row, 'Sample']} is {round(df.loc[row, 'St.Dev'],ndigits=3)} \"\n",
    "              f\"(Sample 1: {round(df.loc[row, 'mtDNA1'],ndigits=3)} vs Sample 2: {round(df.loc[row, 'mtDNA2'], ndigits=2)}) \\n\")"
   ],
   "metadata": {
    "collapsed": false
   }
  },
  {
   "cell_type": "code",
   "execution_count": 9,
   "outputs": [],
   "source": [
    "#Drop index, sort by St.Dev, and download the file\n",
    "df = df.sort_values(by=['St.Dev'], ascending=False)\n",
    "df = df.reset_index(drop=True)\n",
    "\n",
    "df.to_excel(\"50_gcr_random_name_test_output.xlsx\",\n",
    "          index=False)"
   ],
   "metadata": {
    "collapsed": false
   }
  },
  {
   "cell_type": "code",
   "execution_count": 11,
   "outputs": [
    {
     "data": {
      "text/plain": "True"
     },
     "execution_count": 11,
     "metadata": {},
     "output_type": "execute_result"
    }
   ],
   "source": [
    "\"**\" in \"dej9dje9w** dewidwei dwe\""
   ],
   "metadata": {
    "collapsed": false
   }
  },
  {
   "cell_type": "code",
   "execution_count": null,
   "outputs": [],
   "source": [],
   "metadata": {
    "collapsed": false
   }
  }
 ],
 "metadata": {
  "kernelspec": {
   "display_name": "Python 3",
   "language": "python",
   "name": "python3"
  },
  "language_info": {
   "codemirror_mode": {
    "name": "ipython",
    "version": 2
   },
   "file_extension": ".py",
   "mimetype": "text/x-python",
   "name": "python",
   "nbconvert_exporter": "python",
   "pygments_lexer": "ipython2",
   "version": "2.7.6"
  }
 },
 "nbformat": 4,
 "nbformat_minor": 0
}

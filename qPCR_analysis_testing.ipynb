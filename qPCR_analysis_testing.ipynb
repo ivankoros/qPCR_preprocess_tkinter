{
 "cells": [
  {
   "cell_type": "code",
   "execution_count": 1,
   "metadata": {
    "collapsed": true,
    "ExecuteTime": {
     "start_time": "2023-04-03T11:34:26.120263Z",
     "end_time": "2023-04-03T11:34:26.812342Z"
    }
   },
   "outputs": [],
   "source": [
    "import numpy as np\n",
    "import pandas as pd\n",
    "import os\n",
    "import unittest\n",
    "from IPython.display import display"
   ]
  },
  {
   "cell_type": "code",
   "execution_count": 2,
   "outputs": [
    {
     "name": "stderr",
     "output_type": "stream",
     "text": [
      "..\n",
      "----------------------------------------------------------------------\n",
      "Ran 2 tests in 0.002s\n",
      "\n",
      "OK\n"
     ]
    },
    {
     "data": {
      "text/plain": "   Unnamed: 0 Well Fluor  Target Content  Sample  Biological Set Name  \\\n0         NaN  A01  SYBR     NaN    Unkn     NaN                  NaN   \n1         NaN  A02  SYBR     NaN    Unkn     NaN                  NaN   \n2         NaN  A03  SYBR     NaN    Unkn     NaN                  NaN   \n3         NaN  A04  SYBR     NaN    Unkn     NaN                  NaN   \n4         NaN  A05  SYBR     NaN    Unkn     NaN                  NaN   \n\n          Cq    Cq Mean  Cq Std. Dev  Starting Quantity (SQ)  \\\n0        NaN   0.000000            0                     NaN   \n1  20.971671  20.971671            0                     NaN   \n2  20.832234  20.832234            0                     NaN   \n3  20.146131  20.146131            0                     NaN   \n4  20.245704  20.245704            0                     NaN   \n\n   Log Starting Quantity  SQ Mean  SQ Std. Dev  Set Point  Well Note  \n0                    NaN      0.0            0         72        NaN  \n1                    NaN      NaN            0         72        NaN  \n2                    NaN      NaN            0         72        NaN  \n3                    NaN      NaN            0         72        NaN  \n4                    NaN      NaN            0         72        NaN  ",
      "text/html": "<div>\n<style scoped>\n    .dataframe tbody tr th:only-of-type {\n        vertical-align: middle;\n    }\n\n    .dataframe tbody tr th {\n        vertical-align: top;\n    }\n\n    .dataframe thead th {\n        text-align: right;\n    }\n</style>\n<table border=\"1\" class=\"dataframe\">\n  <thead>\n    <tr style=\"text-align: right;\">\n      <th></th>\n      <th>Unnamed: 0</th>\n      <th>Well</th>\n      <th>Fluor</th>\n      <th>Target</th>\n      <th>Content</th>\n      <th>Sample</th>\n      <th>Biological Set Name</th>\n      <th>Cq</th>\n      <th>Cq Mean</th>\n      <th>Cq Std. Dev</th>\n      <th>Starting Quantity (SQ)</th>\n      <th>Log Starting Quantity</th>\n      <th>SQ Mean</th>\n      <th>SQ Std. Dev</th>\n      <th>Set Point</th>\n      <th>Well Note</th>\n    </tr>\n  </thead>\n  <tbody>\n    <tr>\n      <th>0</th>\n      <td>NaN</td>\n      <td>A01</td>\n      <td>SYBR</td>\n      <td>NaN</td>\n      <td>Unkn</td>\n      <td>NaN</td>\n      <td>NaN</td>\n      <td>NaN</td>\n      <td>0.000000</td>\n      <td>0</td>\n      <td>NaN</td>\n      <td>NaN</td>\n      <td>0.0</td>\n      <td>0</td>\n      <td>72</td>\n      <td>NaN</td>\n    </tr>\n    <tr>\n      <th>1</th>\n      <td>NaN</td>\n      <td>A02</td>\n      <td>SYBR</td>\n      <td>NaN</td>\n      <td>Unkn</td>\n      <td>NaN</td>\n      <td>NaN</td>\n      <td>20.971671</td>\n      <td>20.971671</td>\n      <td>0</td>\n      <td>NaN</td>\n      <td>NaN</td>\n      <td>NaN</td>\n      <td>0</td>\n      <td>72</td>\n      <td>NaN</td>\n    </tr>\n    <tr>\n      <th>2</th>\n      <td>NaN</td>\n      <td>A03</td>\n      <td>SYBR</td>\n      <td>NaN</td>\n      <td>Unkn</td>\n      <td>NaN</td>\n      <td>NaN</td>\n      <td>20.832234</td>\n      <td>20.832234</td>\n      <td>0</td>\n      <td>NaN</td>\n      <td>NaN</td>\n      <td>NaN</td>\n      <td>0</td>\n      <td>72</td>\n      <td>NaN</td>\n    </tr>\n    <tr>\n      <th>3</th>\n      <td>NaN</td>\n      <td>A04</td>\n      <td>SYBR</td>\n      <td>NaN</td>\n      <td>Unkn</td>\n      <td>NaN</td>\n      <td>NaN</td>\n      <td>20.146131</td>\n      <td>20.146131</td>\n      <td>0</td>\n      <td>NaN</td>\n      <td>NaN</td>\n      <td>NaN</td>\n      <td>0</td>\n      <td>72</td>\n      <td>NaN</td>\n    </tr>\n    <tr>\n      <th>4</th>\n      <td>NaN</td>\n      <td>A05</td>\n      <td>SYBR</td>\n      <td>NaN</td>\n      <td>Unkn</td>\n      <td>NaN</td>\n      <td>NaN</td>\n      <td>20.245704</td>\n      <td>20.245704</td>\n      <td>0</td>\n      <td>NaN</td>\n      <td>NaN</td>\n      <td>NaN</td>\n      <td>0</td>\n      <td>72</td>\n      <td>NaN</td>\n    </tr>\n  </tbody>\n</table>\n</div>"
     },
     "metadata": {},
     "output_type": "display_data"
    },
    {
     "data": {
      "text/plain": "  Unnamed: 0   1     2         3     4         5     6         7     8  \\\n0          A NaN   D99   D99 dup  D119  D119 dup  D143  D143 dup  D162   \n1          B NaN  D103  D103 dup  D122  D122 dup  D146  D146 dup  D163   \n2          C NaN  D106  D106 dup  D130  D130 dup  D150  D150 dup  D171   \n3          D NaN  D110  D110 dup  D131  D131 dup  D151  D151 dup  D174   \n4          E NaN  D111  D111 dup  D135  D135 dup  D154  D154 dup  D175   \n\n          9        10            11  12  \n0  D162 dup      D191      D191 dup NaN  \n1  D163 dup      D194      D194 dup NaN  \n2  D171 dup      D198      D198 dup NaN  \n3  D174 dup      D199      D199 dup NaN  \n4  D175 dup  D131 SCR  D131 SCR dup NaN  ",
      "text/html": "<div>\n<style scoped>\n    .dataframe tbody tr th:only-of-type {\n        vertical-align: middle;\n    }\n\n    .dataframe tbody tr th {\n        vertical-align: top;\n    }\n\n    .dataframe thead th {\n        text-align: right;\n    }\n</style>\n<table border=\"1\" class=\"dataframe\">\n  <thead>\n    <tr style=\"text-align: right;\">\n      <th></th>\n      <th>Unnamed: 0</th>\n      <th>1</th>\n      <th>2</th>\n      <th>3</th>\n      <th>4</th>\n      <th>5</th>\n      <th>6</th>\n      <th>7</th>\n      <th>8</th>\n      <th>9</th>\n      <th>10</th>\n      <th>11</th>\n      <th>12</th>\n    </tr>\n  </thead>\n  <tbody>\n    <tr>\n      <th>0</th>\n      <td>A</td>\n      <td>NaN</td>\n      <td>D99</td>\n      <td>D99 dup</td>\n      <td>D119</td>\n      <td>D119 dup</td>\n      <td>D143</td>\n      <td>D143 dup</td>\n      <td>D162</td>\n      <td>D162 dup</td>\n      <td>D191</td>\n      <td>D191 dup</td>\n      <td>NaN</td>\n    </tr>\n    <tr>\n      <th>1</th>\n      <td>B</td>\n      <td>NaN</td>\n      <td>D103</td>\n      <td>D103 dup</td>\n      <td>D122</td>\n      <td>D122 dup</td>\n      <td>D146</td>\n      <td>D146 dup</td>\n      <td>D163</td>\n      <td>D163 dup</td>\n      <td>D194</td>\n      <td>D194 dup</td>\n      <td>NaN</td>\n    </tr>\n    <tr>\n      <th>2</th>\n      <td>C</td>\n      <td>NaN</td>\n      <td>D106</td>\n      <td>D106 dup</td>\n      <td>D130</td>\n      <td>D130 dup</td>\n      <td>D150</td>\n      <td>D150 dup</td>\n      <td>D171</td>\n      <td>D171 dup</td>\n      <td>D198</td>\n      <td>D198 dup</td>\n      <td>NaN</td>\n    </tr>\n    <tr>\n      <th>3</th>\n      <td>D</td>\n      <td>NaN</td>\n      <td>D110</td>\n      <td>D110 dup</td>\n      <td>D131</td>\n      <td>D131 dup</td>\n      <td>D151</td>\n      <td>D151 dup</td>\n      <td>D174</td>\n      <td>D174 dup</td>\n      <td>D199</td>\n      <td>D199 dup</td>\n      <td>NaN</td>\n    </tr>\n    <tr>\n      <th>4</th>\n      <td>E</td>\n      <td>NaN</td>\n      <td>D111</td>\n      <td>D111 dup</td>\n      <td>D135</td>\n      <td>D135 dup</td>\n      <td>D154</td>\n      <td>D154 dup</td>\n      <td>D175</td>\n      <td>D175 dup</td>\n      <td>D131 SCR</td>\n      <td>D131 SCR dup</td>\n      <td>NaN</td>\n    </tr>\n  </tbody>\n</table>\n</div>"
     },
     "metadata": {},
     "output_type": "display_data"
    }
   ],
   "source": [
    "# Load environmental variables\n",
    "\n",
    "# Assign raw data and plate diagram files from environment\n",
    "RAW_SAMPLE_1 = \"./data/test/raw_counts.xlsx\"\n",
    "RAW_SAMPLE_1_DIAGRAM = \"./data/test/loading_diagram.xlsx\"\n",
    "\n",
    "# Read in the raw data and plate diagram as pandas dataframes\n",
    "df_data = pd.read_excel(RAW_SAMPLE_1, sheet_name=0)\n",
    "df_diagram = pd.read_excel(RAW_SAMPLE_1_DIAGRAM)\n",
    "\n",
    "\n",
    "# Test the raw data and plate diagram to make sure they are the correct size, should be 96 rows by 16 columns and 8 rows by 13 columns respectively always\n",
    "class TestStringMethods(unittest.TestCase):\n",
    "\n",
    "    def test_raw_data(self):\n",
    "        self.assertEqual(df_data.shape, (96, 16), f\"Raw data is {df_data.shape[0]} rows by {df_data.shape[1]} columns but should be 96 rows by 3 columns\")\n",
    "\n",
    "    def test_plate_diagram(self):\n",
    "        self.assertEqual(df_diagram.shape, (8, 13), f\"Plate diagram is {df_diagram.shape[0]} rows by {df_diagram.shape[1]} columns but should be 8 rows by 13 columns\")\n",
    "\n",
    "\n",
    "unittest.main(argv=['first-arg-is-ignored'], exit=False)\n",
    "\n",
    "display(df_data)\n",
    "display(df_diagram)"
   ],
   "metadata": {
    "collapsed": false,
    "ExecuteTime": {
     "start_time": "2023-04-03T11:34:48.210409Z",
     "end_time": "2023-04-03T11:34:48.733872Z"
    }
   }
  },
  {
   "cell_type": "code",
   "execution_count": 16,
   "outputs": [
    {
     "data": {
      "text/plain": "   Unnamed: 0 Well Fluor  Target Content Sample  Biological Set Name  \\\n0         NaN  A01  SYBR     NaN    Unkn    NaN                  NaN   \n1         NaN  A02  SYBR     NaN    Unkn    NaN                  NaN   \n2         NaN  A03  SYBR     NaN    Unkn    NaN                  NaN   \n3         NaN  A04  SYBR     NaN    Unkn    NaN                  NaN   \n4         NaN  A05  SYBR     NaN    Unkn    NaN                  NaN   \n\n          Cq    Cq Mean  Cq Std. Dev  Starting Quantity (SQ)  \\\n0        NaN   0.000000            0                     NaN   \n1  19.214765  19.214765            0                     NaN   \n2  19.586924  19.586924            0                     NaN   \n3  19.634851  19.634851            0                     NaN   \n4  19.645373  19.645373            0                     NaN   \n\n   Log Starting Quantity  SQ Mean  SQ Std. Dev  Set Point  Well Note  \n0                    NaN      0.0            0         72        NaN  \n1                    NaN      NaN            0         72        NaN  \n2                    NaN      NaN            0         72        NaN  \n3                    NaN      NaN            0         72        NaN  \n4                    NaN      NaN            0         72        NaN  ",
      "text/html": "<div>\n<style scoped>\n    .dataframe tbody tr th:only-of-type {\n        vertical-align: middle;\n    }\n\n    .dataframe tbody tr th {\n        vertical-align: top;\n    }\n\n    .dataframe thead th {\n        text-align: right;\n    }\n</style>\n<table border=\"1\" class=\"dataframe\">\n  <thead>\n    <tr style=\"text-align: right;\">\n      <th></th>\n      <th>Unnamed: 0</th>\n      <th>Well</th>\n      <th>Fluor</th>\n      <th>Target</th>\n      <th>Content</th>\n      <th>Sample</th>\n      <th>Biological Set Name</th>\n      <th>Cq</th>\n      <th>Cq Mean</th>\n      <th>Cq Std. Dev</th>\n      <th>Starting Quantity (SQ)</th>\n      <th>Log Starting Quantity</th>\n      <th>SQ Mean</th>\n      <th>SQ Std. Dev</th>\n      <th>Set Point</th>\n      <th>Well Note</th>\n    </tr>\n  </thead>\n  <tbody>\n    <tr>\n      <th>0</th>\n      <td>NaN</td>\n      <td>A01</td>\n      <td>SYBR</td>\n      <td>NaN</td>\n      <td>Unkn</td>\n      <td>NaN</td>\n      <td>NaN</td>\n      <td>NaN</td>\n      <td>0.000000</td>\n      <td>0</td>\n      <td>NaN</td>\n      <td>NaN</td>\n      <td>0.0</td>\n      <td>0</td>\n      <td>72</td>\n      <td>NaN</td>\n    </tr>\n    <tr>\n      <th>1</th>\n      <td>NaN</td>\n      <td>A02</td>\n      <td>SYBR</td>\n      <td>NaN</td>\n      <td>Unkn</td>\n      <td>NaN</td>\n      <td>NaN</td>\n      <td>19.214765</td>\n      <td>19.214765</td>\n      <td>0</td>\n      <td>NaN</td>\n      <td>NaN</td>\n      <td>NaN</td>\n      <td>0</td>\n      <td>72</td>\n      <td>NaN</td>\n    </tr>\n    <tr>\n      <th>2</th>\n      <td>NaN</td>\n      <td>A03</td>\n      <td>SYBR</td>\n      <td>NaN</td>\n      <td>Unkn</td>\n      <td>NaN</td>\n      <td>NaN</td>\n      <td>19.586924</td>\n      <td>19.586924</td>\n      <td>0</td>\n      <td>NaN</td>\n      <td>NaN</td>\n      <td>NaN</td>\n      <td>0</td>\n      <td>72</td>\n      <td>NaN</td>\n    </tr>\n    <tr>\n      <th>3</th>\n      <td>NaN</td>\n      <td>A04</td>\n      <td>SYBR</td>\n      <td>NaN</td>\n      <td>Unkn</td>\n      <td>NaN</td>\n      <td>NaN</td>\n      <td>19.634851</td>\n      <td>19.634851</td>\n      <td>0</td>\n      <td>NaN</td>\n      <td>NaN</td>\n      <td>NaN</td>\n      <td>0</td>\n      <td>72</td>\n      <td>NaN</td>\n    </tr>\n    <tr>\n      <th>4</th>\n      <td>NaN</td>\n      <td>A05</td>\n      <td>SYBR</td>\n      <td>NaN</td>\n      <td>Unkn</td>\n      <td>NaN</td>\n      <td>NaN</td>\n      <td>19.645373</td>\n      <td>19.645373</td>\n      <td>0</td>\n      <td>NaN</td>\n      <td>NaN</td>\n      <td>NaN</td>\n      <td>0</td>\n      <td>72</td>\n      <td>NaN</td>\n    </tr>\n  </tbody>\n</table>\n</div>"
     },
     "execution_count": 16,
     "metadata": {},
     "output_type": "execute_result"
    }
   ],
   "source": [
    "# Set the first column as the index, remove whitespace and add a space to the \"dup\" values\n",
    "df_diagram = df_diagram.set_index(df_diagram.columns[0])\n",
    "df_diagram = df_diagram.replace('\\s+', '', regex=True)\n",
    "df_diagram = df_diagram.replace('dup', ' dup', regex=True)\n",
    "\n",
    "# Create an empty sample map dictionary\n",
    "sample_map = {}\n",
    "\n",
    "for row in df_diagram.index:\n",
    "    for col in df_diagram.columns[1:]:\n",
    "        well_id = f\"{row}{int(col):02d}\"\n",
    "        sample_name = df_diagram.loc[row, col]\n",
    "        sample_map[well_id] = sample_name\n",
    "\n",
    "    \"\"\"Use rows and columns (besides the first one) to relate the well ID to the sample name.\n",
    "\n",
    "    For example, the first row name is A and the first column name is 1.\n",
    "    The well ID will be A01 and the sample name will the sample in that row/column.\n",
    "\n",
    "    \"\"\"\n",
    "\n",
    "# Read in the raw qPCR data and map the well IDs to sample names using the dictionary\n",
    "df_data[\"Sample\"] = df_data[\"Well\"].map(sample_map)\n",
    "\n",
    "# Show first 5 rows\n",
    "df_data.head()"
   ],
   "metadata": {
    "collapsed": false
   }
  },
  {
   "cell_type": "code",
   "execution_count": 17,
   "outputs": [
    {
     "data": {
      "text/plain": "Empty DataFrame\nColumns: [Well, Sample, mtDNA1, mtDNA2, Cq]\nIndex: []",
      "text/html": "<div>\n<style scoped>\n    .dataframe tbody tr th:only-of-type {\n        vertical-align: middle;\n    }\n\n    .dataframe tbody tr th {\n        vertical-align: top;\n    }\n\n    .dataframe thead th {\n        text-align: right;\n    }\n</style>\n<table border=\"1\" class=\"dataframe\">\n  <thead>\n    <tr style=\"text-align: right;\">\n      <th></th>\n      <th>Well</th>\n      <th>Sample</th>\n      <th>mtDNA1</th>\n      <th>mtDNA2</th>\n      <th>Cq</th>\n    </tr>\n  </thead>\n  <tbody>\n  </tbody>\n</table>\n</div>"
     },
     "execution_count": 17,
     "metadata": {},
     "output_type": "execute_result"
    }
   ],
   "source": [
    "# Select relevant columns (Well, Cq, and Sample)\n",
    "df = df_data[['Well', 'Cq', 'Sample']].copy()\n",
    "\n",
    "# Create mtDNA1 and mtDNA2 columns\n",
    "df['mtDNA1'] = \"mtDNA1\"\n",
    "df['mtDNA2'] = \"mtDNA2\"\n",
    "\n",
    "# Arrange columns like this: \"Well\", \"Sample\", \"mtDNA1\", \"mtDNA2\", \"Cq\"\n",
    "df = df.loc[:,[\"Well\", \"Sample\", \"mtDNA1\", \"mtDNA2\", \"Cq\"]]\n",
    "\n",
    "# Drop rows with NA values\n",
    "df = df.dropna()\n",
    "\n",
    "# Show first 5 rows\n",
    "df.head()"
   ],
   "metadata": {
    "collapsed": false
   }
  },
  {
   "cell_type": "code",
   "execution_count": 18,
   "outputs": [
    {
     "data": {
      "text/plain": "Empty DataFrame\nColumns: [Well, Sample, mtDNA1, mtDNA2, St.Dev]\nIndex: []",
      "text/html": "<div>\n<style scoped>\n    .dataframe tbody tr th:only-of-type {\n        vertical-align: middle;\n    }\n\n    .dataframe tbody tr th {\n        vertical-align: top;\n    }\n\n    .dataframe thead th {\n        text-align: right;\n    }\n</style>\n<table border=\"1\" class=\"dataframe\">\n  <thead>\n    <tr style=\"text-align: right;\">\n      <th></th>\n      <th>Well</th>\n      <th>Sample</th>\n      <th>mtDNA1</th>\n      <th>mtDNA2</th>\n      <th>St.Dev</th>\n    </tr>\n  </thead>\n  <tbody>\n  </tbody>\n</table>\n</div>"
     },
     "execution_count": 18,
     "metadata": {},
     "output_type": "execute_result"
    }
   ],
   "source": [
    "# set mtDNA1 and mtDNA2 values to Cq values by treating mtDNA1 as the Cq for the first sample and mtDNA2 as the Cq for the duplicate sample if it exists as \"Sample dup\"\n",
    "\n",
    "# Note, exactly \"Sample dup\" is used to avoid matching \"Sample dup **\" or any additions to the name\n",
    "\n",
    "for row, index in df.iterrows():\n",
    "    df.loc[row, 'mtDNA1'] = df.loc[row, 'Cq']\n",
    "    if df.loc[row, 'Sample'] + ' dup' in df['Sample'].values:\n",
    "        df.loc[row, 'mtDNA2'] = df.loc[df['Sample'] == df.loc[row, 'Sample'] + ' dup', 'Cq'].values[0]\n",
    "    else:\n",
    "        df.loc[row, 'mtDNA2'] = np.NAN\n",
    "\n",
    "\"\"\" Assign mtDNA1 and mtNDA2 value\n",
    "\n",
    "    For each row, set the mtDNA1 value to the Cq value and set the mtDNA2 value to the Cq value of the duplicate sample if it exists.\n",
    "\n",
    "    For example, if the sample name is \"D12\", set the mtDNA1 value to its Cq value and set the mtDNA2 value to the Cq value of \"D12 Dup\" (if it exists).\n",
    "\n",
    "    If the duplicate (\"D12 Dup\") does not exist, set the mtDNA2 value to NaN, which is then dropped later.\n",
    "\"\"\"\n",
    "\n",
    "\n",
    "# Drop the Cq column and drop NA values\n",
    "df = df.drop(columns=['Cq'])\n",
    "df = df.dropna()\n",
    "\n",
    "# calculate standard deviation of each row\n",
    "df['St.Dev'] = df[['mtDNA1', 'mtDNA2']].std(axis=1)\n",
    "\n",
    "# Show first 5 rows\n",
    "df.head()"
   ],
   "metadata": {
    "collapsed": false
   }
  },
  {
   "cell_type": "code",
   "execution_count": 13,
   "outputs": [
    {
     "name": "stdout",
     "output_type": "stream",
     "text": [
      "Warning: Standard deviation for D88 is 3.354 (Sample 1: 24.13 vs Sample 2: 19.39)\n"
     ]
    }
   ],
   "source": [
    "# Throw warnings for standard deviations greater than .22\n",
    "\n",
    "for row, index in df.iterrows():\n",
    "    if df.loc[row, 'St.Dev'] > .22:\n",
    "        print(f\"\\n Warning: Standard deviation for {df.loc[row, 'Sample']} is {round(df.loc[row, 'St.Dev'],ndigits=3)} \"\n",
    "              f\"(Sample 1: {round(df.loc[row, 'mtDNA1'],ndigits=3)} vs Sample 2: {round(df.loc[row, 'mtDNA2'], ndigits=2)}) \\n\")"
   ],
   "metadata": {
    "collapsed": false
   }
  },
  {
   "cell_type": "code",
   "execution_count": 28,
   "outputs": [],
   "source": [
    "#Drop index, sort by standard deviation (descending), and download the file\n",
    "df = df.sort_values(by=['St.Dev'], ascending=False)\n",
    "df = df.reset_index(drop=True)\n",
    "\n",
    "df.to_excel(\"50_gcr_random_name_test_output.xlsx\",\n",
    "          index=False)"
   ],
   "metadata": {
    "collapsed": false
   }
  }
 ],
 "metadata": {
  "kernelspec": {
   "display_name": "Python 3",
   "language": "python",
   "name": "python3"
  },
  "language_info": {
   "codemirror_mode": {
    "name": "ipython",
    "version": 2
   },
   "file_extension": ".py",
   "mimetype": "text/x-python",
   "name": "python",
   "nbconvert_exporter": "python",
   "pygments_lexer": "ipython2",
   "version": "2.7.6"
  }
 },
 "nbformat": 4,
 "nbformat_minor": 0
}
